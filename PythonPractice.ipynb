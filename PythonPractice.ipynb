{
  "nbformat": 4,
  "nbformat_minor": 0,
  "metadata": {
    "colab": {
      "name": "PythonPractice.ipynb",
      "provenance": [],
      "authorship_tag": "ABX9TyPCAjgUv0WbQni5meQ024au",
      "include_colab_link": true
    },
    "kernelspec": {
      "name": "python3",
      "display_name": "Python 3"
    }
  },
  "cells": [
    {
      "cell_type": "markdown",
      "metadata": {
        "id": "view-in-github",
        "colab_type": "text"
      },
      "source": [
        "<a href=\"https://colab.research.google.com/github/Aceofsung/Microcredential/blob/master/PythonPractice.ipynb\" target=\"_parent\"><img src=\"https://colab.research.google.com/assets/colab-badge.svg\" alt=\"Open In Colab\"/></a>"
      ]
    },
    {
      "cell_type": "code",
      "metadata": {
        "colab": {
          "base_uri": "https://localhost:8080/"
        },
        "id": "nYEIAmWPWoyW",
        "outputId": "eb579a90-1ec3-442b-9ae2-5ea7b2ffe03e"
      },
      "source": [
        "for i in \"hello\":\r\n",
        "  print (i)"
      ],
      "execution_count": 1,
      "outputs": [
        {
          "output_type": "stream",
          "text": [
            "h\n",
            "e\n",
            "l\n",
            "l\n",
            "o\n"
          ],
          "name": "stdout"
        }
      ]
    },
    {
      "cell_type": "code",
      "metadata": {
        "colab": {
          "base_uri": "https://localhost:8080/"
        },
        "id": "q7_L3BViWsG3",
        "outputId": "dc06c54c-09b0-4b9d-f83e-3b3a8ed4b9b4"
      },
      "source": [
        "fam = [\"jack\", \"rachel\", \"sam\", \"brian\", \"abigail\", \"sally\"]\r\n",
        "for i in fam:\r\n",
        "  print(\"hi \" + i.title())"
      ],
      "execution_count": 4,
      "outputs": [
        {
          "output_type": "stream",
          "text": [
            "hi Jack\n",
            "hi Rachel\n",
            "hi Sam\n",
            "hi Brian\n",
            "hi Abigail\n",
            "hi Sally\n"
          ],
          "name": "stdout"
        }
      ]
    },
    {
      "cell_type": "code",
      "metadata": {
        "colab": {
          "base_uri": "https://localhost:8080/"
        },
        "id": "cz7-_aZ-X2l0",
        "outputId": "0544a859-15d0-48cc-c8db-aad423708b6f"
      },
      "source": [
        "numbers = list(range(1,21,2))\r\n",
        "print(numbers)"
      ],
      "execution_count": 5,
      "outputs": [
        {
          "output_type": "stream",
          "text": [
            "[1, 3, 5, 7, 9, 11, 13, 15, 17, 19]\n"
          ],
          "name": "stdout"
        }
      ]
    },
    {
      "cell_type": "code",
      "metadata": {
        "colab": {
          "base_uri": "https://localhost:8080/"
        },
        "id": "lRRAYXI3dksk",
        "outputId": "7ce0a08e-6b9d-4c8b-a8c5-e89d011edc4a"
      },
      "source": [
        "number = int(input(\"Enter a number: \"))\r\n",
        "\r\n",
        "if (number % 2 != 0):\r\n",
        "    print( str(number) + \" is odd\")\r\n",
        "else:\r\n",
        "    print( str(number) + \" is even\")\r\n",
        "\r\n",
        "    "
      ],
      "execution_count": 16,
      "outputs": [
        {
          "output_type": "stream",
          "text": [
            "Enter a number: 6\n",
            "6 is even\n"
          ],
          "name": "stdout"
        }
      ]
    },
    {
      "cell_type": "code",
      "metadata": {
        "colab": {
          "base_uri": "https://localhost:8080/"
        },
        "id": "Mfb4fVRKeDDx",
        "outputId": "3bab2de0-7c59-40f3-93e9-4ddcfa744ad0"
      },
      "source": [
        "numb = int(input(\"Enter number: \"))\r\n",
        "\r\n",
        "if numb < 2: \r\n",
        "  print(\"Not Prime\")\r\n",
        "else:\r\n",
        " for i in range(1,100):\r\n",
        "  if (numb % i == 0):\r\n",
        "    print(\"It is prime\")"
      ],
      "execution_count": 24,
      "outputs": [
        {
          "output_type": "stream",
          "text": [
            "Enter number: 3\n",
            "It is prime\n",
            "It is prime\n"
          ],
          "name": "stdout"
        }
      ]
    },
    {
      "cell_type": "code",
      "metadata": {
        "colab": {
          "base_uri": "https://localhost:8080/"
        },
        "id": "KDZ_DBKTiREH",
        "outputId": "7f144e24-22fe-429c-d64b-13f2533ec221"
      },
      "source": [
        "for num in range(2, 101):\r\n",
        "    if all(num%i!=0 for i in range(2, num)):\r\n",
        "       print (num)\r\n"
      ],
      "execution_count": 25,
      "outputs": [
        {
          "output_type": "stream",
          "text": [
            "2\n",
            "3\n",
            "5\n",
            "7\n",
            "11\n",
            "13\n",
            "17\n",
            "19\n",
            "23\n",
            "29\n",
            "31\n",
            "37\n",
            "41\n",
            "43\n",
            "47\n",
            "53\n",
            "59\n",
            "61\n",
            "67\n",
            "71\n",
            "73\n",
            "79\n",
            "83\n",
            "89\n",
            "97\n"
          ],
          "name": "stdout"
        }
      ]
    },
    {
      "cell_type": "code",
      "metadata": {
        "colab": {
          "base_uri": "https://localhost:8080/"
        },
        "id": "GFqso7Qbr-7p",
        "outputId": "c1686a54-4354-4976-ed84-ddf684d60914"
      },
      "source": [
        "fam = [\"jack\", \"rachel\", \"sam\", \"brian\", \"abigail\", \"sally\", \"ariana\", \"patrick\", \"nick\", \"amy\", \"jacob\", \"elizabeth\", \"sarah\", \"hamilton\", \"jackson\", \"washington\", \"kaylie\"]\r\n",
        "for i in range(1,11):\r\n",
        "  print(fam[i:11])"
      ],
      "execution_count": 32,
      "outputs": [
        {
          "output_type": "stream",
          "text": [
            "['rachel', 'sam', 'brian', 'abigail', 'sally', 'ariana', 'patrick', 'nick', 'amy', 'jacob']\n",
            "['sam', 'brian', 'abigail', 'sally', 'ariana', 'patrick', 'nick', 'amy', 'jacob']\n",
            "['brian', 'abigail', 'sally', 'ariana', 'patrick', 'nick', 'amy', 'jacob']\n",
            "['abigail', 'sally', 'ariana', 'patrick', 'nick', 'amy', 'jacob']\n",
            "['sally', 'ariana', 'patrick', 'nick', 'amy', 'jacob']\n",
            "['ariana', 'patrick', 'nick', 'amy', 'jacob']\n",
            "['patrick', 'nick', 'amy', 'jacob']\n",
            "['nick', 'amy', 'jacob']\n",
            "['amy', 'jacob']\n",
            "['jacob']\n"
          ],
          "name": "stdout"
        }
      ]
    },
    {
      "cell_type": "code",
      "metadata": {
        "id": "ftUOmwySxgXg"
      },
      "source": [
        "\r\n"
      ],
      "execution_count": null,
      "outputs": []
    }
  ]
}