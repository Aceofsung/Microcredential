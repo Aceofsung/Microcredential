{
  "nbformat": 4,
  "nbformat_minor": 0,
  "metadata": {
    "colab": {
      "name": "basic01.ipynb",
      "provenance": [],
      "collapsed_sections": [],
      "authorship_tag": "ABX9TyOBPATJk2bpfJnWBkxHpAUh",
      "include_colab_link": true
    },
    "kernelspec": {
      "name": "python3",
      "display_name": "Python 3"
    }
  },
  "cells": [
    {
      "cell_type": "markdown",
      "metadata": {
        "id": "view-in-github",
        "colab_type": "text"
      },
      "source": [
        "<a href=\"https://colab.research.google.com/github/Aceofsung/Something/blob/master/basic01.ipynb\" target=\"_parent\"><img src=\"https://colab.research.google.com/assets/colab-badge.svg\" alt=\"Open In Colab\"/></a>"
      ]
    },
    {
      "cell_type": "markdown",
      "metadata": {
        "id": "0TNZs5hQMOlc"
      },
      "source": [
        "Create five variables"
      ]
    },
    {
      "cell_type": "code",
      "metadata": {
        "colab": {
          "base_uri": "https://localhost:8080/"
        },
        "id": "Pp5rYz8WChEX",
        "outputId": "13370e4e-e5b4-4ad2-868d-dfce73767414"
      },
      "source": [
        "first_name = \"ace\""
      ],
      "execution_count": 3,
      "outputs": [
        {
          "output_type": "stream",
          "text": [
            "2\n"
          ],
          "name": "stdout"
        }
      ]
    },
    {
      "cell_type": "markdown",
      "metadata": {
        "id": "Zz0791sINxpv"
      },
      "source": [
        "Make lists , Boolean, and floats"
      ]
    },
    {
      "cell_type": "code",
      "metadata": {
        "id": "J-k3C3mFacRJ"
      },
      "source": [
        "list1 = [\"A\", \"B\",\"C\"]\r\n",
        "list2 = [1,2,3,4,5]\r\n",
        "list3 = [\"Ace\", \"kang\"]\r\n",
        "list4 = [True, False, True, False]\r\n",
        "list5 = [392.539,23582.30,2351.32]\r\n",
        "list6 = [2315, True, False, \"hello\"]\r\n"
      ],
      "execution_count": 6,
      "outputs": []
    },
    {
      "cell_type": "code",
      "metadata": {
        "id": "BYdM_dFda7n3"
      },
      "source": [
        ""
      ],
      "execution_count": null,
      "outputs": []
    }
  ]
}